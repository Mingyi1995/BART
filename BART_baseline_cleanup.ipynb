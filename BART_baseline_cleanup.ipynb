{
 "cells": [
  {
   "cell_type": "code",
   "execution_count": 46,
   "id": "cc05a381",
   "metadata": {},
   "outputs": [],
   "source": [
    "import numpy as np\n",
    "import pandas as pd\n",
    "from sklearn.metrics import r2_score,mean_absolute_error,mean_absolute_percentage_error\n",
    "from sklearn.linear_model import LinearRegression\n",
    "from sklearn.preprocessing import MinMaxScaler,StandardScaler\n",
    "import geopandas as gpd\n",
    "from geopy.distance import distance,geodesic\n",
    "import swifter\n",
    "from joblib import Parallel, delayed\n"
   ]
  },
  {
   "cell_type": "code",
   "execution_count": 47,
   "id": "6f0d82e7",
   "metadata": {
    "scrolled": true
   },
   "outputs": [],
   "source": [
    "data = pd.read_csv('date-hour-soo-dest-2022.csv.gz',compression='gzip',header=None)\n",
    "data.columns = ['Date', 'Hour', 'Origin', 'Destination', 'Number']"
   ]
  },
  {
   "cell_type": "code",
   "execution_count": 48,
   "id": "c53f8c11",
   "metadata": {},
   "outputs": [],
   "source": [
    "data['Month'] = data['Date'].apply(lambda x: x.split('-')[1])\n",
    "data = data.loc[data['Month'].isin(['09','10'])]\n",
    "data['OD'] = data['Origin'] + ' - ' + data['Destination']"
   ]
  },
  {
   "cell_type": "code",
   "execution_count": 49,
   "id": "d59ca589",
   "metadata": {},
   "outputs": [],
   "source": [
    "data = pd.pivot_table(data,index=['Date','Hour'],columns=['OD'],fill_value=0).reset_index()\n",
    "data.columns = [i[1] if i[0]=='Number' else i[0] for i in data.columns]"
   ]
  },
  {
   "cell_type": "code",
   "execution_count": 51,
   "id": "d98b3941",
   "metadata": {},
   "outputs": [],
   "source": [
    "\n",
    "data = data.merge(pd.DataFrame({'Date':sorted(data['Date'].unique().tolist()*24),\n",
    "                         'Hour':list(range(0,24))*len(data['Date'].unique())}),\n",
    "                  on=['Date','Hour'],how='outer').\\\n",
    "fillna(0).sort_values(by=['Date','Hour'])\n",
    "\n",
    "data[data.columns[2:]] = data[data.columns[2:]].astype('float16')"
   ]
  },
  {
   "cell_type": "code",
   "execution_count": 52,
   "id": "45dfe474",
   "metadata": {},
   "outputs": [],
   "source": [
    "od_flow = data.melt(id_vars=['Date','Hour']).fillna(0)\n",
    "od_flow['o'] = od_flow['variable'].apply(lambda x:x.split(' - ')[0])\n",
    "od_flow['d'] = od_flow['variable'].apply(lambda x:x.split(' - ')[1])\n",
    "\n",
    "\n",
    "outgoing_flow = od_flow.groupby(['Date','Hour','o']).agg({'value':sum}).reset_index()\n",
    "outgoing_flow.rename(columns={'o':'station','value':'outgoing_flow'},inplace=True)\n",
    "incoming_flow = od_flow.groupby(['Date','Hour','d']).agg({'value':sum}).reset_index()\n",
    "incoming_flow.rename(columns={'d':'station','value':'incoming_flow'},inplace=True)\n",
    "\n",
    "flow = incoming_flow.merge(outgoing_flow,on=['Date','Hour','station'])\n",
    "flow.pivot_table(values=['incoming_flow','outgoing_flow'],index=['Date','Hour'],\n",
    "                columns = 'station').\\\n",
    "to_csv('/home/mingyi/Desktop/Dropbox/2022Fall/StemGNN/dataset/inout.csv',header=False,\n",
    "      index=False)"
   ]
  },
  {
   "cell_type": "markdown",
   "id": "3c55da5c",
   "metadata": {},
   "source": [
    "# different methods, all tested on 10-02"
   ]
  },
  {
   "cell_type": "code",
   "execution_count": 53,
   "id": "fcbc4e3d",
   "metadata": {},
   "outputs": [
    {
     "name": "stdout",
     "output_type": "stream",
     "text": [
      "0.2788768235992482\n",
      "-0.4586509667001619\n"
     ]
    }
   ],
   "source": [
    "### same as 1 hours before\n",
    "print(r2_score(data.iloc[-25:-1,2:],data.iloc[-24:,2:],multioutput='variance_weighted'))\n",
    "print(r2_score(data.iloc[-25:-1,2:],data.iloc[-24:,2:]))"
   ]
  },
  {
   "cell_type": "code",
   "execution_count": 54,
   "id": "53d874ff",
   "metadata": {},
   "outputs": [
    {
     "name": "stdout",
     "output_type": "stream",
     "text": [
      "0.39728020854757473\n",
      "-0.5277207904863108\n"
     ]
    }
   ],
   "source": [
    "### same as 24 hour ago\n",
    "print(r2_score(data.iloc[-48:-24,2:],data.iloc[-24:,2:],multioutput='variance_weighted'))\n",
    "print(r2_score(data.iloc[-48:-24,2:],data.iloc[-24:,2:]))"
   ]
  },
  {
   "cell_type": "code",
   "execution_count": 37,
   "id": "5b043275",
   "metadata": {},
   "outputs": [
    {
     "name": "stdout",
     "output_type": "stream",
     "text": [
      "out of sample R2\n",
      "0.6834917189488803\n",
      "0.6724154199774338\n"
     ]
    }
   ],
   "source": [
    "### lag linear regression, many to one\n",
    "data_melt = data.melt(id_vars=['Date','Hour']).fillna(0)\n",
    " \n",
    "no_lag = 24\n",
    "for lag in range(1,no_lag+1):\n",
    "    temp = data_melt[['variable','value']].shift(lag)\n",
    "    temp.columns = ['variable'+'-'+str(lag),'value'+'-'+str(lag)]\n",
    "    data_melt = pd.concat([data_melt,temp],axis=1)\n",
    "\n",
    "data_melt = data_melt.dropna()\n",
    "data_melt = data_melt.loc[data_melt['variable']==data_melt['variable'+'-'+str(lag)]]\n",
    "\n",
    "x = data_melt[[col for col in data_melt.columns if 'value-' in col]]\n",
    "y = data_melt['value']\n",
    "\n",
    "x_train = x.iloc[1:-24*2500,:].values\n",
    "y_train = y.iloc[1:-24*2500,].values.reshape(-1, 1)\n",
    "\n",
    "scaler = StandardScaler()\n",
    "scaler.fit(x_train)\n",
    "x_train = scaler.transform(x_train)\n",
    "\n",
    "model = LinearRegression(fit_intercept=False).fit(x_train, y_train)\n",
    "\n",
    "print('out of sample R2')\n",
    "x_test = x.iloc[-24*2500:,:].values\n",
    "y_test = y.iloc[-24*2500:].values.reshape(-1, 1)\n",
    "\n",
    "x_test = scaler.transform(x_test)\n",
    "y_pred = model.predict(x_test)\n",
    "\n",
    "print(r2_score(y_pred,y_test))\n",
    "print(r2_score(y_pred.reshape(24,2500),y_test.reshape(24,2500),multioutput='variance_weighted'))\n"
   ]
  },
  {
   "cell_type": "code",
   "execution_count": 38,
   "id": "0fdefaa4",
   "metadata": {},
   "outputs": [
    {
     "name": "stdout",
     "output_type": "stream",
     "text": [
      "out of sample R2\n",
      "-5.640509084550648\n",
      "0.23011635281401716\n"
     ]
    }
   ],
   "source": [
    "### lag linear regression, many to many\n",
    "\n",
    "no_lag = 24\n",
    "\n",
    "x = pd.DataFrame()\n",
    "for lag in range(1,no_lag+1):\n",
    "    x = pd.concat([x,data.drop(columns=['Date','Hour']).shift(lag)],axis=1)\n",
    "\n",
    "x_train = x.iloc[no_lag:-24,:].values\n",
    "y_train = data.drop(columns=['Date','Hour']).iloc[no_lag:-24,:].values\n",
    "\n",
    "scaler = MinMaxScaler()\n",
    "scaler.fit(x_train)\n",
    "x_train = scaler.transform(x_train)\n",
    "\n",
    "model = LinearRegression().fit(x_train, y_train)\n",
    "\n",
    "print('out of sample R2')\n",
    "x_test = x.iloc[-24:,:].values\n",
    "y_test = data.drop(columns=['Date','Hour']).iloc[-24:,:].values\n",
    "\n",
    "x_test = scaler.transform(x_test)\n",
    "y_pred = model.predict(x_test)\n",
    "print(r2_score(y_pred,y_test))\n",
    "print(r2_score(y_pred,y_test,multioutput='variance_weighted'))"
   ]
  },
  {
   "cell_type": "markdown",
   "id": "bb226df7",
   "metadata": {},
   "source": [
    "## adding D-O, and lag"
   ]
  },
  {
   "cell_type": "code",
   "execution_count": 83,
   "id": "63849049",
   "metadata": {},
   "outputs": [],
   "source": [
    "\n",
    "od_flow = data.melt(id_vars=['Date','Hour']).fillna(0)\n",
    "od_flow['o'] = od_flow['variable'].apply(lambda x:x.split(' - ')[0])\n",
    "od_flow['d'] = od_flow['variable'].apply(lambda x:x.split(' - ')[1])\n",
    "od_flow = od_flow.merge(od_flow[['Date','Hour','o','d','value']],\n",
    "                        left_on=['Date','Hour','o','d'],\n",
    "                        right_on=['Date','Hour','d','o'])\n",
    "od_flow = od_flow[['Date', 'Hour', 'variable', 'value_x', 'value_y']]\n",
    "od_flow.columns = ['Date','Hour','variable','value','r_value']\n",
    "# normalization\n",
    "od_flow['r_value'] = (od_flow['r_value']+0.01)/(od_flow['value']+0.01)"
   ]
  },
  {
   "cell_type": "code",
   "execution_count": 84,
   "id": "4f27c25f",
   "metadata": {},
   "outputs": [
    {
     "name": "stdout",
     "output_type": "stream",
     "text": [
      "out of sample R2\n",
      "0.7867947619965633\n",
      "0.7793217418795463\n"
     ]
    }
   ],
   "source": [
    "### lag linear regression,\n",
    " \n",
    "no_lag = 24\n",
    "for lag in range(1,no_lag+1):\n",
    "    temp = od_flow[['variable','value','r_value']].shift(lag)\n",
    "    temp.columns = ['variable'+'-'+str(lag),'value'+'-'+str(lag),'r_value'+'-'+str(lag)]\n",
    "    od_flow = pd.concat([od_flow,temp],axis=1)\n",
    "\n",
    "od_flow = od_flow.dropna()\n",
    "od_flow = od_flow.loc[od_flow['variable']==od_flow['variable'+'-'+str(lag)]]\n",
    "\n",
    "x = od_flow[[col for col in od_flow.columns if '-' in col and 'variable' not in col]]\n",
    "y = od_flow['value']\n",
    "\n",
    "# train on 09-01 to 10-01\n",
    "x_train = x.iloc[1:-24*2500,:].values\n",
    "y_train = y.iloc[1:-24*2500,].values.reshape(-1, 1)\n",
    "\n",
    "# scaler = StandardScaler()\n",
    "# scaler.fit(x_train)\n",
    "# x_train = scaler.transform(x_train)\n",
    "\n",
    "model = LinearRegression(fit_intercept=False).fit(x_train, y_train)\n",
    "\n",
    "print('out of sample R2')\n",
    "\n",
    "#test on 10-02\n",
    "x_test = x.iloc[-24*2500:,:].values\n",
    "y_test = y.iloc[-24*2500:].values.reshape(-1, 1)\n",
    "\n",
    "# x_test = scaler.transform(x_test)\n",
    "y_pred = model.predict(x_test)\n",
    "\n",
    "print(r2_score(y_pred,y_test))\n",
    "print(r2_score(y_pred.reshape(24,2500),y_test.reshape(24,2500),multioutput='variance_weighted'))\n"
   ]
  },
  {
   "cell_type": "code",
   "execution_count": 85,
   "id": "52017224",
   "metadata": {},
   "outputs": [
    {
     "data": {
      "text/plain": [
       "0.96410334"
      ]
     },
     "execution_count": 85,
     "metadata": {},
     "output_type": "execute_result"
    }
   ],
   "source": [
    "mean_absolute_error(y_pred.reshape(24,2500),y_test.reshape(24,2500))"
   ]
  },
  {
   "cell_type": "code",
   "execution_count": 86,
   "id": "d10a556f",
   "metadata": {},
   "outputs": [
    {
     "data": {
      "text/plain": [
       "8.0011425"
      ]
     },
     "execution_count": 86,
     "metadata": {},
     "output_type": "execute_result"
    }
   ],
   "source": [
    "mean_absolute_percentage_error(y_pred.reshape(24,2500),y_test.reshape(24,2500))"
   ]
  },
  {
   "cell_type": "markdown",
   "id": "fb40c7d6",
   "metadata": {},
   "source": [
    "## add inflow to O, DO flows, and lag"
   ]
  },
  {
   "cell_type": "code",
   "execution_count": 112,
   "id": "8c0111a8",
   "metadata": {},
   "outputs": [],
   "source": [
    "\n",
    "od_flow = data.melt(id_vars=['Date','Hour']).fillna(0)\n",
    "od_flow['o'] = od_flow['variable'].apply(lambda x:x.split(' - ')[0])\n",
    "od_flow['d'] = od_flow['variable'].apply(lambda x:x.split(' - ')[1])\n",
    "\n",
    "\n",
    "outgoing_flow = od_flow.groupby(['Date','Hour','o']).agg({'value':sum}).reset_index()\n",
    "outgoing_flow.rename(columns={'o':'station','value':'outgoing_flow'},inplace=True)\n",
    "incoming_flow = od_flow.groupby(['Date','Hour','d']).agg({'value':sum}).reset_index()\n",
    "incoming_flow.rename(columns={'d':'station','value':'incoming_flow'},inplace=True)\n",
    "\n",
    "od_flow = od_flow.merge(incoming_flow,left_on=['Date','Hour','o'],right_on=['Date','Hour','station'])\n",
    "\n",
    "od_flow['incoming_flow'] = (od_flow['incoming_flow']+0.1)/(od_flow['value']+0.1)\n",
    "\n",
    "\n",
    "od_flow = od_flow.merge(od_flow[['Date','Hour','o','d','value']],\n",
    "                        left_on=['Date','Hour','o','d'],\n",
    "                        right_on=['Date','Hour','d','o'])\n",
    "od_flow = od_flow[['Date', 'Hour', 'variable', 'incoming_flow','value_x', 'value_y']]\n",
    "od_flow.columns = ['Date','Hour','variable','incoming_flow','value','r_value']\n",
    "\n",
    "od_flow['r_value'] = (od_flow['r_value']+0.01)/(od_flow['value']+0.01)\n",
    "\n"
   ]
  },
  {
   "cell_type": "code",
   "execution_count": 115,
   "id": "affb1254",
   "metadata": {},
   "outputs": [
    {
     "name": "stdout",
     "output_type": "stream",
     "text": [
      "out of sample R2\n",
      "0.7875516294597433\n",
      "0.780110770769808\n"
     ]
    }
   ],
   "source": [
    "### lag linear regression,\n",
    "od_flow = od_flow.sort_values(by=['variable','Date','Hour'])\n",
    "no_lag = 24\n",
    "for lag in range(1,no_lag+1):\n",
    "    temp = od_flow[['variable','value','incoming_flow']].shift(lag)\n",
    "    temp.columns = ['variable'+'-'+str(lag),'value'+'-'+str(lag),'incoming_flow'+'-'+str(lag)]\n",
    "    od_flow = pd.concat([od_flow,temp],axis=1)\n",
    "\n",
    "od_flow = od_flow.dropna()\n",
    "od_flow = od_flow.loc[od_flow['variable']==od_flow['variable'+'-'+str(lag)]]\n",
    "\n",
    "x = od_flow[[col for col in od_flow.columns if '-' in col and 'variable' not in col]]\n",
    "y = od_flow['value']\n",
    "\n",
    "x_train = x.iloc[1:-24*2500,:].values\n",
    "y_train = y.iloc[1:-24*2500,].values.reshape(-1, 1)\n",
    "\n",
    "model = LinearRegression(fit_intercept=False).fit(x_train, y_train)\n",
    "\n",
    "print('out of sample R2')\n",
    "x_test = x.iloc[-24*2500:,:].values\n",
    "y_test = y.iloc[-24*2500:].values.reshape(-1, 1)\n",
    "\n",
    "y_pred = model.predict(x_test)\n",
    "\n",
    "print(r2_score(y_pred,y_test))\n",
    "print(r2_score(y_pred.reshape(24,2500),y_test.reshape(24,2500),multioutput='variance_weighted'))\n"
   ]
  },
  {
   "cell_type": "code",
   "execution_count": 116,
   "id": "5dae7fa2",
   "metadata": {},
   "outputs": [
    {
     "data": {
      "text/plain": [
       "0.98998946"
      ]
     },
     "execution_count": 116,
     "metadata": {},
     "output_type": "execute_result"
    }
   ],
   "source": [
    "mean_absolute_error(y_pred.reshape(24,2500),y_test.reshape(24,2500))"
   ]
  },
  {
   "cell_type": "code",
   "execution_count": 117,
   "id": "524c65d6",
   "metadata": {},
   "outputs": [
    {
     "data": {
      "text/plain": [
       "4.8599854"
      ]
     },
     "execution_count": 117,
     "metadata": {},
     "output_type": "execute_result"
    }
   ],
   "source": [
    "mean_absolute_percentage_error(y_pred.reshape(24,2500),y_test.reshape(24,2500))"
   ]
  },
  {
   "cell_type": "markdown",
   "id": "d3a75382",
   "metadata": {},
   "source": [
    "## add Incoming/Outgoing flow of OD, and lag\n"
   ]
  },
  {
   "cell_type": "code",
   "execution_count": 118,
   "id": "aaa03c41",
   "metadata": {},
   "outputs": [],
   "source": [
    "od_flow = data.melt(id_vars=['Date','Hour']).fillna(0)\n",
    "od_flow['o'] = od_flow['variable'].apply(lambda x:x.split(' - ')[0])\n",
    "od_flow['d'] = od_flow['variable'].apply(lambda x:x.split(' - ')[1])\n",
    "outgoing_flow = od_flow.groupby(['Date','Hour','o']).agg({'value':sum}).reset_index()\n",
    "outgoing_flow.rename(columns={'o':'station','value':'outgoing_flow'},inplace=True)\n",
    "incoming_flow = od_flow.groupby(['Date','Hour','d']).agg({'value':sum}).reset_index()\n",
    "incoming_flow.rename(columns={'d':'station','value':'incoming_flow'},inplace=True)"
   ]
  },
  {
   "cell_type": "code",
   "execution_count": 175,
   "id": "ae300420",
   "metadata": {},
   "outputs": [],
   "source": [
    "od_flow = od_flow.merge(incoming_flow,left_on=['Date','Hour','o'],right_on=['Date','Hour','station'])\n",
    "od_flow.rename(columns={'incoming_flow':'o_incoming_flow'},inplace=True)\n",
    "del od_flow['station']\n",
    "od_flow = od_flow.merge(incoming_flow,left_on=['Date','Hour','d'],right_on=['Date','Hour','station'])\n",
    "od_flow.rename(columns={'incoming_flow':'d_incoming_flow'},inplace=True)\n",
    "del od_flow['station']\n",
    "od_flow = od_flow.merge(outgoing_flow,left_on=['Date','Hour','o'],right_on=['Date','Hour','station'])\n",
    "od_flow.rename(columns={'outgoing_flow':'o_outgoing_flow'},inplace=True)\n",
    "del od_flow['station']\n",
    "od_flow = od_flow.merge(outgoing_flow,left_on=['Date','Hour','d'],right_on=['Date','Hour','station'])\n",
    "od_flow.rename(columns={'outgoing_flow':'d_outgoing_flow'},inplace=True)\n",
    "del od_flow['station']\n",
    "\n",
    "od_flow['o_incoming_flow'] = (od_flow['o_incoming_flow']+0.1)/(od_flow['value']+0.1)\n",
    "od_flow['d_incoming_flow'] = (od_flow['d_incoming_flow']+0.1)/(od_flow['value']+0.1)\n",
    "od_flow['o_outgoing_flow'] = (od_flow['o_outgoing_flow']+0.1)/(od_flow['value']+0.1)\n",
    "od_flow['d_outgoing_flow'] = (od_flow['d_outgoing_flow']+0.1)/(od_flow['value']+0.1)\n",
    "\n",
    "\n",
    "od_flow = od_flow.sort_values(by=['variable','Date','Hour'])"
   ]
  },
  {
   "cell_type": "code",
   "execution_count": 176,
   "id": "084e8457",
   "metadata": {},
   "outputs": [
    {
     "name": "stdout",
     "output_type": "stream",
     "text": [
      "out of sample R2\n",
      "0.7681850454681229\n",
      "0.760741038231203\n"
     ]
    }
   ],
   "source": [
    "### lag linear regression,\n",
    " \n",
    "no_lag = 24\n",
    "selected_variables = ['variable','value',\n",
    "                    'o_incoming_flow','d_incoming_flow',\n",
    "                   'o_outgoing_flow','d_outgoing_flow']\n",
    "for lag in range(1,no_lag+1):\n",
    "    temp = od_flow[selected_variables].shift(lag)\n",
    "    temp.columns = [i+'-'+str(lag) for i in selected_variables]\n",
    "    od_flow = pd.concat([od_flow,temp],axis=1)\n",
    "\n",
    "od_flow = od_flow.dropna()\n",
    "od_flow = od_flow.loc[od_flow['variable']==od_flow['variable'+'-'+str(lag)]]\n",
    "\n",
    "x = od_flow[[col for col in od_flow.columns if '-' in col and 'variable' not in col]]\n",
    "y = od_flow['value']\n",
    "\n",
    "x_train = x.iloc[1:-24*2500,:].values\n",
    "y_train = y.iloc[1:-24*2500,].values.reshape(-1, 1)\n",
    "\n",
    "model = LinearRegression(fit_intercept=False).fit(x_train, y_train)\n",
    "\n",
    "print('out of sample R2')\n",
    "x_test = x.iloc[-24*2500:,:].values\n",
    "y_test = y.iloc[-24*2500:].values.reshape(-1, 1)\n",
    "\n",
    "y_pred = model.predict(x_test)\n",
    "\n",
    "print(r2_score(y_pred,y_test))\n",
    "print(r2_score(y_pred.reshape(24,2500),y_test.reshape(24,2500),multioutput='variance_weighted'))\n"
   ]
  },
  {
   "cell_type": "markdown",
   "id": "6a1bb1b9",
   "metadata": {},
   "source": [
    "## add spatial and temporal lag"
   ]
  },
  {
   "cell_type": "code",
   "execution_count": 37,
   "id": "34a314b6",
   "metadata": {},
   "outputs": [],
   "source": [
    "import fiona\n",
    "\n",
    "gpd.io.file.fiona.drvsupport.supported_drivers['KML'] = 'rw'\n",
    "gdf = gpd.read_file('doc.kml', driver='KML')\n",
    "\n",
    "station_name = pd.read_excel('Station_Names.xls')"
   ]
  },
  {
   "cell_type": "code",
   "execution_count": 38,
   "id": "bc1fb2e9",
   "metadata": {},
   "outputs": [
    {
     "data": {
      "text/plain": [
       "{'Milpitas': (37.41028235996109, -121.8910940840804),\n",
       " 'Berryessa/North San Jose': (37.36847828910375, -121.8746938431299),\n",
       " 'Civic Center/UN Plaza': (37.77939386076292, -122.4139364152155),\n",
       " 'Concord': (37.97382498587121, -122.0290620224699),\n",
       " 'Colma': (37.68462160749755, -122.4662231559497),\n",
       " 'El Cerrito Plaza': (37.90263522650326, -122.2989484071957),\n",
       " 'Daly City': (37.70633321337765, -122.4689119071663),\n",
       " 'North Concord/Martinez': (38.00332451679782, -122.0245523142489),\n",
       " 'Fremont': (37.55747442735056, -121.9766263951319),\n",
       " 'Glen Park': (37.73311239451958, -122.4337900883828),\n",
       " 'Hayward': (37.66969738355485, -122.0869599532775),\n",
       " 'El Cerrito del Norte': (37.92519241672761, -122.3169151214355),\n",
       " 'Coliseum': (37.75368874735485, -122.1968592134024),\n",
       " 'Downtown Berkeley': (37.870316112485, -122.2681588195891),\n",
       " 'Bay Fair': (37.69691620335457, -122.1264596293894),\n",
       " 'Balboa Park': (37.72135058802746, -122.4475873574918),\n",
       " 'San Bruno': (37.63770374268261, -122.416266663064),\n",
       " 'South Hayward': (37.63435057014377, -122.0571973085167),\n",
       " 'Walnut Creek': (37.90581393318745, -122.0673293828923),\n",
       " 'North Berkeley': (37.87400975559205, -122.2835440605503),\n",
       " 'Orinda': (37.87843136876605, -122.1837536902054),\n",
       " 'West Oakland': (37.80488709440741, -122.2951608275966),\n",
       " 'San Leandro': (37.72178541354254, -122.1607506968877),\n",
       " '16th St/Mission': (37.7650542393208, -122.4197081435102),\n",
       " '24th St/Mission': (37.75223145165567, -122.4184678760467),\n",
       " '12th St/Oakland City Center': (37.80359016475856, -122.2716760457216),\n",
       " 'Union City': (37.59073431646981, -122.0172560140017),\n",
       " 'West Dublin/Pleasanton': (37.69975069922069, -121.9280770983016),\n",
       " 'Millbrae': (37.60019409910356, -122.386850499254),\n",
       " 'Montgomery St': (37.78944952039291, -122.401174710598),\n",
       " 'Dublin/Pleasanton': (37.70168178489024, -121.8990739680306),\n",
       " 'Lake Merritt': (37.79729295255645, -122.2652268340202),\n",
       " 'Pleasant Hill/Contra Costa Centre': (37.9284417959691, -122.0559783959089),\n",
       " 'MacArthur': (37.82908330072804, -122.2670634889679),\n",
       " 'Powell St': (37.78487089662782, -122.407017658827),\n",
       " 'Richmond': (37.93676312548746, -122.3529765513423),\n",
       " 'Rockridge': (37.84473931018153, -122.2513146330437),\n",
       " 'San Francisco International Airport': (37.6159976796269, -122.3924140752073),\n",
       " 'Embarcadero': (37.79285391372564, -122.3969009943397),\n",
       " 'Pittsburg/Bay Point': (38.01891419708777, -121.9439800963828),\n",
       " 'Castro Valley': (37.69074797609731, -122.0756066931696),\n",
       " 'Lafayette': (37.89318568337656, -122.1246473347904),\n",
       " 'South San Francisco': (37.66421053890038, -122.4439776627614),\n",
       " '19th St/Oakland': (37.80849328724776, -122.2686539732401),\n",
       " 'Ashby': (37.85257465083503, -122.2699939627478),\n",
       " 'Fruitvale': (37.7748944568355, -122.2241794181938),\n",
       " 'Oakland International Airport': (37.71297181882021, -122.2124401712401),\n",
       " 'Warm Springs/South Fremont': (37.50233497012078, -121.9394330281566),\n",
       " 'Coliseum/Airport Connector': (37.75230496505586, -122.1961830183373),\n",
       " 'eBART Transfer': (38.01893663101241, -121.9328174472903),\n",
       " 'Antioch': (37.99539272912608, -121.7804333645259),\n",
       " 'Pittsburg Center': (38.01694606342261, -121.8894701561251)}"
      ]
     },
     "execution_count": 38,
     "metadata": {},
     "output_type": "execute_result"
    }
   ],
   "source": [
    "station_latlon = dict(zip(gdf['Name'],zip(gdf.geometry.y,gdf.geometry.x)))\n",
    "station_latlon"
   ]
  },
  {
   "cell_type": "code",
   "execution_count": 39,
   "id": "e070f17a",
   "metadata": {},
   "outputs": [],
   "source": [
    "code_name = {'12TH':'12th St/Oakland City Center',\n",
    " '16TH':'16th St/Mission',\n",
    " '19TH':'19th St/Oakland',\n",
    " '24TH':'24th St/Mission',\n",
    " 'ANTC':'Antioch',\n",
    " 'ASHB':'Ashby',\n",
    " 'BALB':'Balboa Park',\n",
    " 'BAYF':'Bay Fair',\n",
    " 'BERY':'Berryessa/North San Jose',\n",
    " 'CAST':'Castro Valley',\n",
    " 'CIVC':'Civic Center/UN Plaza',\n",
    " 'COLM':'Colma',\n",
    " 'COLS':'Coliseum/Airport Connector',\n",
    " 'CONC':'Concord',\n",
    " 'DALY':'Daly City',\n",
    " 'DBRK':'Downtown Berkeley',\n",
    " 'DELN':'El Cerrito del Norte',\n",
    " 'DUBL':'Dublin/Pleasanton',\n",
    " 'EMBR':'Embarcadero',\n",
    " 'FRMT':'Fremont',\n",
    " 'FTVL':'Fruitvale',\n",
    " 'GLEN':'Glen Park',\n",
    " 'HAYW':'Hayward',\n",
    " 'LAFY':'Lafayette',\n",
    " 'LAKE':'Lake Merritt',\n",
    " 'MCAR':'MacArthur',\n",
    " 'MLBR':'Millbrae',\n",
    " 'MLPT':'Milpitas',\n",
    " 'MONT':'Montgomery St',\n",
    " 'NBRK':'North Berkeley',\n",
    " 'NCON':'North Concord/Martinez',\n",
    " 'OAKL':'Oakland International Airport',\n",
    " 'ORIN':'Orinda',\n",
    " 'PCTR':'Pittsburg Center',\n",
    " 'PHIL':'Pleasant Hill/Contra Costa Centre',\n",
    " 'PITT':'Pittsburg/Bay Point',\n",
    " 'PLZA':'El Cerrito Plaza',\n",
    " 'POWL':'Powell St',\n",
    " 'RICH':'Richmond',\n",
    " 'ROCK':'Rockridge',\n",
    " 'SANL':'San Leandro',\n",
    " 'SBRN':'San Bruno',\n",
    " 'SFIA':'San Francisco International Airport',\n",
    " 'SHAY':'South Hayward',\n",
    " 'SSAN':'South San Francisco',\n",
    " 'UCTY':'Union City',\n",
    " 'WARM':'Warm Springs/South Fremont',\n",
    " 'WCRK':'Walnut Creek',\n",
    " 'WDUB':'West Dublin/Pleasanton',\n",
    " 'WOAK':'West Oakland'}"
   ]
  },
  {
   "cell_type": "code",
   "execution_count": 40,
   "id": "6fab4943",
   "metadata": {},
   "outputs": [],
   "source": [
    "station_distance = pd.DataFrame()\n",
    "pair_list = []\n",
    "o_list = []\n",
    "d_list = []\n",
    "distance_list = []\n",
    "for o in code_name.keys():\n",
    "    for d in code_name.keys():\n",
    "        o_name = code_name[o]\n",
    "        d_name = code_name[d]\n",
    "        pair = o + ' - ' + d\n",
    "        pair_list += [pair]\n",
    "        o_list += [o]\n",
    "        d_list += [d]\n",
    "        dist = geodesic(station_latlon[o_name],station_latlon[d_name]).miles\n",
    "        distance_list += [dist]\n",
    "station_distance['o'] = o_list\n",
    "station_distance['d'] = d_list\n",
    "station_distance['pair'] = pair_list\n",
    "station_distance['dist'] = distance_list"
   ]
  },
  {
   "cell_type": "markdown",
   "id": "a15d207b",
   "metadata": {},
   "source": [
    "## O/D incoming/outgoing flow within 1 mi"
   ]
  },
  {
   "cell_type": "code",
   "execution_count": 41,
   "id": "7189d0cb",
   "metadata": {},
   "outputs": [
    {
     "data": {
      "text/html": [
       "<div>\n",
       "<style scoped>\n",
       "    .dataframe tbody tr th:only-of-type {\n",
       "        vertical-align: middle;\n",
       "    }\n",
       "\n",
       "    .dataframe tbody tr th {\n",
       "        vertical-align: top;\n",
       "    }\n",
       "\n",
       "    .dataframe thead th {\n",
       "        text-align: right;\n",
       "    }\n",
       "</style>\n",
       "<table border=\"1\" class=\"dataframe\">\n",
       "  <thead>\n",
       "    <tr style=\"text-align: right;\">\n",
       "      <th></th>\n",
       "      <th>o</th>\n",
       "      <th>d</th>\n",
       "      <th>pair</th>\n",
       "      <th>dist</th>\n",
       "    </tr>\n",
       "  </thead>\n",
       "  <tbody>\n",
       "    <tr>\n",
       "      <th>2</th>\n",
       "      <td>12TH</td>\n",
       "      <td>19TH</td>\n",
       "      <td>12TH - 19TH</td>\n",
       "      <td>0.376426</td>\n",
       "    </tr>\n",
       "    <tr>\n",
       "      <th>24</th>\n",
       "      <td>12TH</td>\n",
       "      <td>LAKE</td>\n",
       "      <td>12TH - LAKE</td>\n",
       "      <td>0.559623</td>\n",
       "    </tr>\n",
       "    <tr>\n",
       "      <th>53</th>\n",
       "      <td>16TH</td>\n",
       "      <td>24TH</td>\n",
       "      <td>16TH - 24TH</td>\n",
       "      <td>0.886955</td>\n",
       "    </tr>\n",
       "    <tr>\n",
       "      <th>100</th>\n",
       "      <td>19TH</td>\n",
       "      <td>12TH</td>\n",
       "      <td>19TH - 12TH</td>\n",
       "      <td>0.376426</td>\n",
       "    </tr>\n",
       "    <tr>\n",
       "      <th>124</th>\n",
       "      <td>19TH</td>\n",
       "      <td>LAKE</td>\n",
       "      <td>19TH - LAKE</td>\n",
       "      <td>0.794901</td>\n",
       "    </tr>\n",
       "  </tbody>\n",
       "</table>\n",
       "</div>"
      ],
      "text/plain": [
       "        o     d         pair      dist\n",
       "2    12TH  19TH  12TH - 19TH  0.376426\n",
       "24   12TH  LAKE  12TH - LAKE  0.559623\n",
       "53   16TH  24TH  16TH - 24TH  0.886955\n",
       "100  19TH  12TH  19TH - 12TH  0.376426\n",
       "124  19TH  LAKE  19TH - LAKE  0.794901"
      ]
     },
     "execution_count": 41,
     "metadata": {},
     "output_type": "execute_result"
    }
   ],
   "source": [
    "station_distance_1mi = station_distance.loc[(station_distance['dist']<1)&(station_distance['dist']>0)]\n",
    "station_distance_1mi.head()"
   ]
  },
  {
   "cell_type": "code",
   "execution_count": 89,
   "id": "a7425843",
   "metadata": {},
   "outputs": [],
   "source": [
    "od_flow = data.melt(id_vars=['Date','Hour']).fillna(0)\n",
    "od_flow['o'] = od_flow['variable'].apply(lambda x:x.split(' - ')[0])\n",
    "od_flow['d'] = od_flow['variable'].apply(lambda x:x.split(' - ')[1])\n",
    "outgoing_flow = od_flow.groupby(['Date','Hour','o']).agg({'value':sum}).reset_index()\n",
    "outgoing_flow.rename(columns={'o':'station','value':'outgoing_flow'},inplace=True)\n",
    "incoming_flow = od_flow.groupby(['Date','Hour','d']).agg({'value':sum}).reset_index()\n",
    "incoming_flow.rename(columns={'d':'station','value':'incoming_flow'},inplace=True)\n",
    "\n",
    "od_flow = od_flow.merge(incoming_flow,left_on=['Date','Hour','o'],right_on=['Date','Hour','station'])\n",
    "od_flow.rename(columns={'incoming_flow':'o_incoming_flow'},inplace=True)\n",
    "del od_flow['station']\n",
    "od_flow = od_flow.merge(incoming_flow,left_on=['Date','Hour','d'],right_on=['Date','Hour','station'])\n",
    "od_flow.rename(columns={'incoming_flow':'d_incoming_flow'},inplace=True)\n",
    "del od_flow['station']\n",
    "od_flow = od_flow.merge(outgoing_flow,left_on=['Date','Hour','o'],right_on=['Date','Hour','station'])\n",
    "od_flow.rename(columns={'outgoing_flow':'o_outgoing_flow'},inplace=True)\n",
    "del od_flow['station']\n",
    "od_flow = od_flow.merge(outgoing_flow,left_on=['Date','Hour','d'],right_on=['Date','Hour','station'])\n",
    "od_flow.rename(columns={'outgoing_flow':'d_outgoing_flow'},inplace=True)\n",
    "del od_flow['station']"
   ]
  },
  {
   "cell_type": "code",
   "execution_count": 96,
   "id": "7679f094",
   "metadata": {},
   "outputs": [],
   "source": [
    "inoutflow = incoming_flow.merge(outgoing_flow,on=['Date','Hour','station'])"
   ]
  },
  {
   "cell_type": "code",
   "execution_count": 42,
   "id": "5a27e407",
   "metadata": {},
   "outputs": [],
   "source": [
    "nearby_stations = {}\n",
    "for station in code_name.keys():\n",
    "    nearby = station_distance_1mi.loc[station_distance_1mi['o']==station]['d'].values.tolist()\n",
    "    nearby_stations[station] = nearby\n"
   ]
  },
  {
   "cell_type": "code",
   "execution_count": 97,
   "id": "1ae320aa",
   "metadata": {},
   "outputs": [
    {
     "data": {
      "text/html": [
       "<div>\n",
       "<style scoped>\n",
       "    .dataframe tbody tr th:only-of-type {\n",
       "        vertical-align: middle;\n",
       "    }\n",
       "\n",
       "    .dataframe tbody tr th {\n",
       "        vertical-align: top;\n",
       "    }\n",
       "\n",
       "    .dataframe thead th {\n",
       "        text-align: right;\n",
       "    }\n",
       "</style>\n",
       "<table border=\"1\" class=\"dataframe\">\n",
       "  <thead>\n",
       "    <tr style=\"text-align: right;\">\n",
       "      <th></th>\n",
       "      <th>Date</th>\n",
       "      <th>Hour</th>\n",
       "      <th>station</th>\n",
       "      <th>incoming_flow</th>\n",
       "      <th>outgoing_flow</th>\n",
       "    </tr>\n",
       "  </thead>\n",
       "  <tbody>\n",
       "    <tr>\n",
       "      <th>0</th>\n",
       "      <td>2022-09-01</td>\n",
       "      <td>0</td>\n",
       "      <td>12TH</td>\n",
       "      <td>21</td>\n",
       "      <td>7</td>\n",
       "    </tr>\n",
       "    <tr>\n",
       "      <th>1</th>\n",
       "      <td>2022-09-01</td>\n",
       "      <td>0</td>\n",
       "      <td>16TH</td>\n",
       "      <td>38</td>\n",
       "      <td>85</td>\n",
       "    </tr>\n",
       "    <tr>\n",
       "      <th>2</th>\n",
       "      <td>2022-09-01</td>\n",
       "      <td>0</td>\n",
       "      <td>19TH</td>\n",
       "      <td>17</td>\n",
       "      <td>16</td>\n",
       "    </tr>\n",
       "    <tr>\n",
       "      <th>3</th>\n",
       "      <td>2022-09-01</td>\n",
       "      <td>0</td>\n",
       "      <td>24TH</td>\n",
       "      <td>48</td>\n",
       "      <td>24</td>\n",
       "    </tr>\n",
       "    <tr>\n",
       "      <th>4</th>\n",
       "      <td>2022-09-01</td>\n",
       "      <td>0</td>\n",
       "      <td>ANTC</td>\n",
       "      <td>29</td>\n",
       "      <td>5</td>\n",
       "    </tr>\n",
       "  </tbody>\n",
       "</table>\n",
       "</div>"
      ],
      "text/plain": [
       "         Date  Hour station  incoming_flow  outgoing_flow\n",
       "0  2022-09-01     0    12TH             21              7\n",
       "1  2022-09-01     0    16TH             38             85\n",
       "2  2022-09-01     0    19TH             17             16\n",
       "3  2022-09-01     0    24TH             48             24\n",
       "4  2022-09-01     0    ANTC             29              5"
      ]
     },
     "execution_count": 97,
     "metadata": {},
     "output_type": "execute_result"
    }
   ],
   "source": [
    "inoutflow.head()"
   ]
  },
  {
   "cell_type": "code",
   "execution_count": 107,
   "id": "9909f993",
   "metadata": {},
   "outputs": [],
   "source": [
    "def get_nearby_flow(x,inoutflow,nearby_stations):\n",
    "    date = x['Date']\n",
    "    hour = x['Hour']\n",
    "    o = x['o']\n",
    "    d = x['d']\n",
    "    temp = inoutflow.loc[(inoutflow['Date']==date)&\\\n",
    "                                    (inoutflow['Hour']==hour)]\n",
    "    o_nearby_flows = temp.loc[(temp['station'].isin(nearby_stations[o]))]\\\n",
    "                                    [['incoming_flow','outgoing_flow']].sum().values.tolist()\n",
    "    d_nearby_flows = temp.loc[(temp['station'].isin(nearby_stations[d]))]\\\n",
    "                                    [['incoming_flow','outgoing_flow']].sum().values.tolist()\n",
    "    \n",
    "    return o_nearby_flows+d_nearby_flows\n",
    "    "
   ]
  },
  {
   "cell_type": "code",
   "execution_count": 109,
   "id": "f4cb8a31",
   "metadata": {},
   "outputs": [],
   "source": [
    "nearby_flow_list = Parallel(n_jobs=8)(delayed(get_nearby_flow)(od_flow.iloc[i],inoutflow,nearby_stations) for i in range(len(od_flow)))"
   ]
  },
  {
   "cell_type": "code",
   "execution_count": 111,
   "id": "a513f130",
   "metadata": {},
   "outputs": [],
   "source": [
    "od_flow[['o_nearby_incoming_list_1mi','o_nearby_outgoing_list_1mi',\n",
    "         'd_nearby_incoming_list_1mi','d_nearby_outgoing_list_1mi']] = nearby_flow_list"
   ]
  },
  {
   "cell_type": "code",
   "execution_count": 114,
   "id": "c34d9692",
   "metadata": {},
   "outputs": [],
   "source": [
    "od_flow.to_csv('processed_time_spatial_lag.csv',index=False)"
   ]
  },
  {
   "cell_type": "code",
   "execution_count": 177,
   "id": "0ace2e03",
   "metadata": {},
   "outputs": [],
   "source": [
    "od_flow = pd.read_csv('processed_time_spatial_lag.csv') \n",
    "\n",
    "for col in ['o_incoming_flow',\n",
    "       'd_incoming_flow', 'o_outgoing_flow', 'd_outgoing_flow',\n",
    "       'o_nearby_incoming_list_1mi', 'o_nearby_outgoing_list_1mi',\n",
    "       'd_nearby_incoming_list_1mi', 'd_nearby_outgoing_list_1mi']:\n",
    "    od_flow[col] = (od_flow[col]+0.1)/(od_flow['value']+0.1)\n",
    "od_flow = od_flow.sort_values(by=['variable','Date','Hour'])"
   ]
  },
  {
   "cell_type": "code",
   "execution_count": 178,
   "id": "22a06f48",
   "metadata": {},
   "outputs": [],
   "source": [
    "target = ['value', 'o_incoming_flow',\n",
    "       'd_incoming_flow', 'o_outgoing_flow', 'd_outgoing_flow',\n",
    "       'o_nearby_incoming_list_1mi', 'o_nearby_outgoing_list_1mi',\n",
    "       'd_nearby_incoming_list_1mi', 'd_nearby_outgoing_list_1mi']"
   ]
  },
  {
   "cell_type": "code",
   "execution_count": 179,
   "id": "b32f0436",
   "metadata": {},
   "outputs": [],
   "source": [
    "### time lag linear regression, many to one\n",
    "# lag_target = ['variable', 'value', 'o_incoming_flow',\n",
    "#        'd_incoming_flow', 'o_outgoing_flow', 'd_outgoing_flow',\n",
    "#        'o_nearby_incoming_list_1mi', 'o_nearby_outgoing_list_1mi',\n",
    "#        'd_nearby_incoming_list_1mi', 'd_nearby_outgoing_list_1mi']\n",
    "\n",
    "lag_target = ['variable', 'value', 'o_incoming_flow',      \n",
    "       'o_nearby_incoming_list_1mi']\n",
    "no_lag = 24\n",
    "for lag in range(1,no_lag+1):\n",
    "    temp = od_flow[lag_target].shift(lag)\n",
    "    temp.columns = [i+'-lag-'+str(lag) for i in lag_target]\n",
    "    temp[['Date','Hour']] = od_flow[['Date','Hour']]\n",
    "    od_flow = temp.merge(od_flow,left_on=['Date','Hour','variable-lag-'+str(lag)],\n",
    "                         right_on=['Date','Hour','variable'])\n",
    "\n",
    "od_flow = od_flow.dropna()"
   ]
  },
  {
   "cell_type": "code",
   "execution_count": 180,
   "id": "048c4a75",
   "metadata": {},
   "outputs": [
    {
     "name": "stdout",
     "output_type": "stream",
     "text": [
      "out of sample R2\n",
      "0.7420928473018202\n",
      "0.729924210378433\n"
     ]
    }
   ],
   "source": [
    "x_target = [col for col in od_flow.columns if '-' in col and 'variable' not in col]\n",
    "x = od_flow[x_target]\n",
    "y = od_flow['value']\n",
    "\n",
    "x_train = x.iloc[:-24*2500,:].values\n",
    "y_train = y.iloc[:-24*2500,].values.reshape(-1, 1)\n",
    "\n",
    "# scaler = StandardScaler()\n",
    "# scaler.fit(x_train)\n",
    "# x_train = scaler.transform(x_train)\n",
    "\n",
    "model = LinearRegression(fit_intercept=False).fit(x_train, y_train)\n",
    "\n",
    "print('out of sample R2')\n",
    "x_test = x.iloc[-24*2500:,:].values\n",
    "y_test = y.iloc[-24*2500:].values.reshape(-1, 1)\n",
    "\n",
    "# x_test = scaler.transform(x_test)\n",
    "y_pred = model.predict(x_test)\n",
    "\n",
    "print(r2_score(y_pred,y_test))\n",
    "print(r2_score(y_pred.reshape(24,2500),y_test.reshape(24,2500),multioutput='variance_weighted'))\n"
   ]
  },
  {
   "cell_type": "markdown",
   "id": "f4853e98",
   "metadata": {},
   "source": [
    "#### incoming/outgoing of O/D and nearby OD\n",
    "lag 24, variance weighted R2 = 0.63\n",
    "\n",
    "lag 12, variance weighted R2 = 0.67\n",
    "\n",
    "lag 6, variance weighted R2 = 0.669\n",
    "\n",
    "lag 3, variance weighted R2 = 0.700"
   ]
  },
  {
   "cell_type": "markdown",
   "id": "aed732b3",
   "metadata": {},
   "source": [
    "## O/D flow start and end within 1 mi"
   ]
  },
  {
   "cell_type": "code",
   "execution_count": 43,
   "id": "8ac48cf2",
   "metadata": {},
   "outputs": [],
   "source": [
    "od_flow = data.melt(id_vars=['Date','Hour']).fillna(0)\n",
    "od_flow['o'] = od_flow['variable'].apply(lambda x:x.split(' - ')[0])\n",
    "od_flow['d'] = od_flow['variable'].apply(lambda x:x.split(' - ')[1])\n",
    "outgoing_flow = od_flow.groupby(['Date','Hour','o']).agg({'value':sum}).reset_index()\n",
    "outgoing_flow.rename(columns={'o':'station','value':'outgoing_flow'},inplace=True)\n",
    "incoming_flow = od_flow.groupby(['Date','Hour','d']).agg({'value':sum}).reset_index()\n",
    "incoming_flow.rename(columns={'d':'station','value':'incoming_flow'},inplace=True)\n",
    "\n",
    "od_flow = od_flow.merge(incoming_flow,left_on=['Date','Hour','o'],right_on=['Date','Hour','station'])\n",
    "od_flow.rename(columns={'incoming_flow':'o_incoming_flow'},inplace=True)\n",
    "del od_flow['station']\n",
    "od_flow = od_flow.merge(incoming_flow,left_on=['Date','Hour','d'],right_on=['Date','Hour','station'])\n",
    "od_flow.rename(columns={'incoming_flow':'d_incoming_flow'},inplace=True)\n",
    "del od_flow['station']\n",
    "od_flow = od_flow.merge(outgoing_flow,left_on=['Date','Hour','o'],right_on=['Date','Hour','station'])\n",
    "od_flow.rename(columns={'outgoing_flow':'o_outgoing_flow'},inplace=True)\n",
    "del od_flow['station']\n",
    "od_flow = od_flow.merge(outgoing_flow,left_on=['Date','Hour','d'],right_on=['Date','Hour','station'])\n",
    "od_flow.rename(columns={'outgoing_flow':'d_outgoing_flow'},inplace=True)\n",
    "del od_flow['station']"
   ]
  },
  {
   "cell_type": "code",
   "execution_count": 44,
   "id": "63fbc347",
   "metadata": {},
   "outputs": [],
   "source": [
    "def get_nearby_odflow(x,od_flow,nearby_stations):\n",
    "    date = x['Date']\n",
    "    hour = x['Hour']\n",
    "    o = x['o']\n",
    "    d = x['d']\n",
    "    temp = od_flow.loc[(od_flow['Date']==date)&\\\n",
    "                                    (od_flow['Hour']==hour)]\n",
    "    flows = temp.loc[(temp['o'].isin(nearby_stations[o]))&(temp['d'].isin(nearby_stations[d]))]\\\n",
    "                                [['value']].sum().values[0]\n",
    "\n",
    "    \n",
    "    return flows"
   ]
  },
  {
   "cell_type": "code",
   "execution_count": null,
   "id": "55458178",
   "metadata": {},
   "outputs": [],
   "source": [
    "# this function have run more than 7 days on my PC\n",
    "# I just give it up\n",
    "nearby_odflow_list = Parallel(n_jobs=4)(delayed(get_nearby_odflow)(od_flow.iloc[i],od_flow,nearby_stations) for i in range(len(od_flow)))"
   ]
  },
  {
   "cell_type": "code",
   "execution_count": null,
   "id": "d5019e0b",
   "metadata": {},
   "outputs": [],
   "source": [
    "od_flow['nearby_odflow'] = nearby_odflow_list\n",
    "od_flow['nearby_odflow'] = (od_flow['nearby_odflow']+0.0001)/(od_flow['value']+0.0001)"
   ]
  }
 ],
 "metadata": {
  "kernelspec": {
   "display_name": "ml",
   "language": "python",
   "name": "ml"
  },
  "language_info": {
   "codemirror_mode": {
    "name": "ipython",
    "version": 3
   },
   "file_extension": ".py",
   "mimetype": "text/x-python",
   "name": "python",
   "nbconvert_exporter": "python",
   "pygments_lexer": "ipython3",
   "version": "3.9.12"
  }
 },
 "nbformat": 4,
 "nbformat_minor": 5
}
